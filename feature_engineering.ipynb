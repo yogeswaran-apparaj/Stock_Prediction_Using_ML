{
 "cells": [
  {
   "cell_type": "code",
   "execution_count": 3,
   "id": "8c6926a0-2365-44aa-a72f-d99721c57cef",
   "metadata": {},
   "outputs": [
    {
     "name": "stdout",
     "output_type": "stream",
     "text": [
      "Price     object\n",
      "Close     object\n",
      "High      object\n",
      "Low       object\n",
      "Open      object\n",
      "Volume    object\n",
      "dtype: object\n",
      "✅ Technical indicators added and saved to AAPL_with_indicators.csv\n"
     ]
    }
   ],
   "source": [
    "import pandas as pd\n",
    "import ta\n",
    "\n",
    "# Load CSV and ensure correct column types\n",
    "df = pd.read_csv('AAPL.csv')\n",
    "\n",
    "# Show column types (for debugging)\n",
    "print(df.dtypes)\n",
    "\n",
    "# Convert 'Close' column to numeric (if it's not already)\n",
    "df['Close'] = pd.to_numeric(df['Close'], errors='coerce')\n",
    "\n",
    "# Drop any rows where 'Close' is NaN\n",
    "df = df.dropna(subset=['Close'])\n",
    "\n",
    "# Add technical indicators\n",
    "df['SMA_20'] = ta.trend.sma_indicator(df['Close'], window=20)\n",
    "df['RSI'] = ta.momentum.rsi(df['Close'], window=14)\n",
    "\n",
    "# Final cleanup\n",
    "df = df.dropna()\n",
    "\n",
    "# Save to new file\n",
    "df.to_csv('AAPL_with_indicators.csv', index=False)\n",
    "print(\"✅ Technical indicators added and saved to AAPL_with_indicators.csv\")\n"
   ]
  },
  {
   "cell_type": "code",
   "execution_count": null,
   "id": "043b4f73-b42a-4710-bd2a-65491d3af1ac",
   "metadata": {},
   "outputs": [],
   "source": []
  }
 ],
 "metadata": {
  "kernelspec": {
   "display_name": "Python 3 (ipykernel)",
   "language": "python",
   "name": "python3"
  },
  "language_info": {
   "codemirror_mode": {
    "name": "ipython",
    "version": 3
   },
   "file_extension": ".py",
   "mimetype": "text/x-python",
   "name": "python",
   "nbconvert_exporter": "python",
   "pygments_lexer": "ipython3",
   "version": "3.12.4"
  }
 },
 "nbformat": 4,
 "nbformat_minor": 5
}
